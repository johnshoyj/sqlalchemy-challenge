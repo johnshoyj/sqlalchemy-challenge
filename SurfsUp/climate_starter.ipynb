{
 "cells": [
  {
   "cell_type": "code",
   "execution_count": 1,
   "metadata": {},
   "outputs": [],
   "source": [
    "%matplotlib inline\n",
    "from matplotlib import style\n",
    "style.use('fivethirtyeight')\n",
    "import matplotlib.pyplot as plt\n",
    "\n",
    "\n",
    "# Imports the methods needed to abstract classes into tables\n",
    "from sqlalchemy.ext.declarative import declarative_base"
   ]
  },
  {
   "cell_type": "code",
   "execution_count": 2,
   "metadata": {},
   "outputs": [],
   "source": [
    "import numpy as np\n",
    "import pandas as pd\n",
    "import datetime as dt"
   ]
  },
  {
   "cell_type": "markdown",
   "metadata": {},
   "source": [
    "# Reflect Tables into SQLAlchemy ORM"
   ]
  },
  {
   "cell_type": "code",
   "execution_count": 3,
   "metadata": {},
   "outputs": [],
   "source": [
    "# Python SQL toolkit and Object Relational Mapper\n",
    "from sqlalchemy.ext.automap import automap_base\n",
    "from sqlalchemy.orm import Session\n",
    "from sqlalchemy import create_engine, func\n",
    "from sqlalchemy.ext.declarative import declarative_base"
   ]
  },
  {
   "cell_type": "code",
   "execution_count": 4,
   "metadata": {},
   "outputs": [],
   "source": [
    "# create engine to hawaii.sqlite\n",
    "engine = create_engine(\"sqlite:///Resources/hawaii.sqlite\")\n",
    "conn = engine.connect()\n",
    "\n"
   ]
  },
  {
   "cell_type": "code",
   "execution_count": 6,
   "metadata": {},
   "outputs": [],
   "source": [
    "# reflect an existing database into a new model\n",
    "Base = automap_base()\n",
    "Base.metadata.create_all(engine)\n",
    "# reflect the tables\n",
    "Base.prepare(autoload_with=engine)\n"
   ]
  },
  {
   "cell_type": "code",
   "execution_count": 15,
   "metadata": {},
   "outputs": [
    {
     "data": {
      "text/plain": [
       "['measurement', 'station']"
      ]
     },
     "metadata": {},
     "output_type": "display_data"
    },
    {
     "name": "stdout",
     "output_type": "stream",
     "text": [
      "Table: measurement\n",
      "Columns: ImmutableColumnCollection(measurement.id, measurement.station, measurement.date, measurement.prcp, measurement.tobs)\n",
      "Table: station\n",
      "Columns: ImmutableColumnCollection(station.id, station.station, station.name, station.latitude, station.longitude, station.elevation)\n"
     ]
    }
   ],
   "source": [
    "# View all of the classes that automap found\n",
    "display(Base.classes.keys())\n",
    "for key in Base.classes.keys():\n",
    "    print(f'Table: {key}')\n",
    "    print(f'Columns: {Base.classes[key].__table__.columns}')"
   ]
  },
  {
   "cell_type": "code",
   "execution_count": 11,
   "metadata": {},
   "outputs": [],
   "source": [
    "# Save references to each table\n",
    "Measurement = Base.classes.measurement\n",
    "Station = Base.classes.station"
   ]
  },
  {
   "cell_type": "code",
   "execution_count": 12,
   "metadata": {},
   "outputs": [],
   "source": [
    "# Create our session (link) from Python to the DB\n",
    "session = Session(bind=engine)"
   ]
  },
  {
   "cell_type": "markdown",
   "metadata": {},
   "source": [
    "# Exploratory Precipitation Analysis"
   ]
  },
  {
   "cell_type": "code",
   "execution_count": 78,
   "metadata": {},
   "outputs": [
    {
     "data": {
      "text/plain": [
       "'2017-08-23'"
      ]
     },
     "execution_count": 78,
     "metadata": {},
     "output_type": "execute_result"
    }
   ],
   "source": [
    "# Find the most recent date in the data set.\n",
    "\n",
    "from datetime import datetime, timedelta\n",
    "\n",
    "latest_measurement = session.query(Measurement).order_by(Measurement.date.desc()).first()\n",
    "latest_measurement.date\n",
    "latest_measurement_date = datetime.strptime(latest_measurement.date, '%Y-%m-%d')\n",
    "latest_measurement.date\n"
   ]
  },
  {
   "cell_type": "code",
   "execution_count": 87,
   "metadata": {},
   "outputs": [
    {
     "data": {
      "image/png": "[encoded data removed]",
      "text/plain": [
       "<Figure size 600x600 with 1 Axes>"
      ]
     },
     "metadata": {},
     "output_type": "display_data"
    }
   ],
   "source": [
    "# Design a query to retrieve the last 12 months of precipitation data and plot the results. \n",
    "# Starting from the most recent data point in the database. \n",
    "# Perform a query to retrieve the data and precipitation scores\n",
    "twelve_months_ago = latest_measurement_date - timedelta(days=366)\n",
    "measurements_last_12_months = (\n",
    "    session.query(Measurement)\n",
    "    .filter(Measurement.date >= twelve_months_ago)\n",
    "    .order_by(Measurement.date.desc())\n",
    "    .all()\n",
    ")\n",
    "\n",
    "# Save the query results as a Pandas DataFrame. Explicitly set the column names\n",
    "df = pd.DataFrame([\n",
    "    {\n",
    "        \"id\": measurement.id,\n",
    "        \"station\": measurement.station,\n",
    "        \"date\": measurement.date,\n",
    "        \"precipitation\": measurement.prcp,\n",
    "        \"tobs\": measurement.tobs\n",
    "    }\n",
    "    for measurement in measurements_last_12_months\n",
    "])\n",
    "\n",
    "# Sort the dataframe by date\n",
    "df['date'] = pd.to_datetime(df['date'])\n",
    "df = df.sort_values(by='date', ascending=True)\n",
    "\n",
    "\n",
    "# Use Pandas Plotting with Matplotlib to plot the data\n",
    "ax = df.plot(kind='bar', x='date', y='precipitation', width=25, color='#0E86D4', alpha=1, figsize=(6, 6))\n",
    "ax.set_xlabel('Date')\n",
    "ax.set_ylabel('Inches')\n",
    "slice_size = max(len(df) // 4, 1)\n",
    "tick_labels = df['date'].iloc[::slice_size].dt.strftime('%Y-%m-%d')\n",
    "ax.set_xticks(ax.get_xticks()[::slice_size])\n",
    "ax.set_xticklabels(tick_labels, rotation=90, ha='right', fontsize=10)\n",
    "ax.tick_params(axis='y', labelsize=14)\n",
    "ax.legend(loc='upper center')\n",
    "plt.tight_layout()\n",
    "plt.show()"
   ]
  },
  {
   "cell_type": "code",
   "execution_count": 89,
   "metadata": {},
   "outputs": [
    {
     "data": {
      "text/html": [
       "<div>\n",
       "<style scoped>\n",
       "    .dataframe tbody tr th:only-of-type {\n",
       "        vertical-align: middle;\n",
       "    }\n",
       "\n",
       "    .dataframe tbody tr th {\n",
       "        vertical-align: top;\n",
       "    }\n",
       "\n",
       "    .dataframe thead th {\n",
       "        text-align: right;\n",
       "    }\n",
       "</style>\n",
       "<table border=\"1\" class=\"dataframe\">\n",
       "  <thead>\n",
       "    <tr style=\"text-align: right;\">\n",
       "      <th></th>\n",
       "      <th>precipitation</th>\n",
       "    </tr>\n",
       "  </thead>\n",
       "  <tbody>\n",
       "    <tr>\n",
       "      <th>count</th>\n",
       "      <td>2021.000000</td>\n",
       "    </tr>\n",
       "    <tr>\n",
       "      <th>mean</th>\n",
       "      <td>0.177279</td>\n",
       "    </tr>\n",
       "    <tr>\n",
       "      <th>std</th>\n",
       "      <td>0.461190</td>\n",
       "    </tr>\n",
       "    <tr>\n",
       "      <th>min</th>\n",
       "      <td>0.000000</td>\n",
       "    </tr>\n",
       "    <tr>\n",
       "      <th>25%</th>\n",
       "      <td>0.000000</td>\n",
       "    </tr>\n",
       "    <tr>\n",
       "      <th>50%</th>\n",
       "      <td>0.020000</td>\n",
       "    </tr>\n",
       "    <tr>\n",
       "      <th>75%</th>\n",
       "      <td>0.130000</td>\n",
       "    </tr>\n",
       "    <tr>\n",
       "      <th>max</th>\n",
       "      <td>6.700000</td>\n",
       "    </tr>\n",
       "  </tbody>\n",
       "</table>\n",
       "</div>"
      ],
      "text/plain": [
       "       precipitation\n",
       "count    2021.000000\n",
       "mean        0.177279\n",
       "std         0.461190\n",
       "min         0.000000\n",
       "25%         0.000000\n",
       "50%         0.020000\n",
       "75%         0.130000\n",
       "max         6.700000"
      ]
     },
     "metadata": {},
     "output_type": "display_data"
    }
   ],
   "source": [
    "# Use Pandas to calculate the summary statistics for the precipitation data\n",
    "summary_stats = df['precipitation'].describe()\n",
    "display(summary_stats.to_frame())"
   ]
  },
  {
   "cell_type": "markdown",
   "metadata": {},
   "source": [
    "# Exploratory Station Analysis"
   ]
  },
  {
   "cell_type": "code",
   "execution_count": 92,
   "metadata": {},
   "outputs": [
    {
     "data": {
      "text/plain": [
       "9"
      ]
     },
     "execution_count": 92,
     "metadata": {},
     "output_type": "execute_result"
    }
   ],
   "source": [
    "# Design a query to calculate the total number of stations in the dataset\n",
    "station_count = session.query(Station.id).count()\n",
    "station_count"
   ]
  },
  {
   "cell_type": "code",
   "execution_count": 100,
   "metadata": {},
   "outputs": [
    {
     "name": "stdout",
     "output_type": "stream",
     "text": [
      "[]\n"
     ]
    }
   ],
   "source": [
    "# Perform a join and count query\n",
    "station_measurements = (\n",
    "    session.query(Station, func.count(Measurement.id).label('measurement_count'))\n",
    "    .select_from(Station)\n",
    "    .join(Measurement, Station.id == Measurement.station)\n",
    "    .group_by(Station)\n",
    "    .all()\n",
    ")\n",
    "\n",
    "print(station_measurements)\n",
    "\n",
    "# Print the results\n",
    "for station, measurement_count in station_measurements:\n",
    "    print(f\"Station ID: {station.id}, Name: {station.name}, Measurement Count: {measurement_count}\")"
   ]
  },
  {
   "cell_type": "code",
   "execution_count": 102,
   "metadata": {},
   "outputs": [
    {
     "name": "stdout",
     "output_type": "stream",
     "text": [
      "SELECT station.id AS station_id, station.station AS station_station, station.name AS station_name, station.latitude AS station_latitude, station.longitude AS station_longitude, station.elevation AS station_elevation, count(measurement.id) AS measurement_count \n",
      "FROM station JOIN measurement ON station.id = measurement.station GROUP BY station.id, station.station, station.name, station.latitude, station.longitude, station.elevation ORDER BY count(measurement.id) DESC\n",
      "[]\n"
     ]
    }
   ],
   "source": [
    "# Perform a join and count query using select_from\n",
    "query = (\n",
    "    session.query(Station, func.count(Measurement.id).label('measurement_count'))\n",
    "    .select_from(Station)\n",
    "    .join(Measurement, Station.id == Measurement.station)\n",
    "    .group_by(Station)\n",
    "    .order_by(func.count(Measurement.id).desc())\n",
    ")\n",
    "\n",
    "# Print the generated SQL statement for debugging\n",
    "print(query)\n",
    "\n",
    "# Execute the query and print the results\n",
    "station_measurements = query.all()\n",
    "print(station_measurements)"
   ]
  },
  {
   "cell_type": "code",
   "execution_count": 108,
   "metadata": {},
   "outputs": [
    {
     "data": {
      "text/plain": [
       "'USC00519397'"
      ]
     },
     "execution_count": 108,
     "metadata": {},
     "output_type": "execute_result"
    }
   ],
   "source": [
    "session.query(Measurement).order_by('date').first().station"
   ]
  },
  {
   "cell_type": "code",
   "execution_count": 13,
   "metadata": {},
   "outputs": [
    {
     "data": {
      "text/plain": [
       "[('USC00519281', 2772),\n",
       " ('USC00519397', 2724),\n",
       " ('USC00513117', 2709),\n",
       " ('USC00519523', 2669),\n",
       " ('USC00516128', 2612),\n",
       " ('USC00514830', 2202),\n",
       " ('USC00511918', 1979),\n",
       " ('USC00517948', 1372),\n",
       " ('USC00518838', 511)]"
      ]
     },
     "execution_count": 13,
     "metadata": {},
     "output_type": "execute_result"
    }
   ],
   "source": [
    "# Design a query to find the most active stations (i.e. which stations have the most rows?)\n",
    "# List the stations and their counts in descending order.\n",
    "results = session.query(Measurement.station, func.count(Measurement.station))\\\n",
    "    .group_by(Measurement.station)\\\n",
    "    .order_by(func.count(Measurement.station).desc())\\\n",
    "    .all()\n",
    "\n",
    "for station, count in results:\n",
    "    print(f\"Station: {station}, Count: {count}\")\n",
    "\n",
    "most_active_station = results[0][0]"
   ]
  },
  {
   "cell_type": "code",
   "execution_count": 14,
   "metadata": {},
   "outputs": [
    {
     "data": {
      "text/plain": [
       "[(54.0, 85.0, 71.66378066378067)]"
      ]
     },
     "execution_count": 14,
     "metadata": {},
     "output_type": "execute_result"
    }
   ],
   "source": [
    "# Using the most active station id from the previous query, calculate the lowest, highest, and average temperature.\n",
    "result = session.query(\n",
    "    func.min(Measurement.tobs),\n",
    "    func.max(Measurement.tobs),\n",
    "    func.avg(Measurement.tobs)\n",
    ").filter(Measurement.station == most_active_station).one()\n",
    "\n",
    "print(result)"
   ]
  },
  {
   "cell_type": "code",
   "execution_count": 15,
   "metadata": {},
   "outputs": [
    {
     "data": {
      "text/plain": [
       "Text(0.5, 4.183333333333314, 'Temperature')"
      ]
     },
     "execution_count": 15,
     "metadata": {},
     "output_type": "execute_result"
    },
    {
     "data": {
      "image/png": "[encoded data removed]",
      "text/plain": [
       "<Figure size 640x480 with 1 Axes>"
      ]
     },
     "metadata": {},
     "output_type": "display_data"
    }
   ],
   "source": [
    "# Using the most active station id\n",
    "# Query the last 12 months of temperature observation data for this station and plot the results as a histogram\n",
    "mostactive_measurements_last_12_months = (\n",
    "    session.query(Measurement)\n",
    "    .filter(Measurement.date >= twelve_months_ago)\n",
    "    .filter(Measurement.station == most_active_station)\n",
    "    .order_by(Measurement.date.desc())\n",
    "    .all()\n",
    ")\n",
    "\n",
    "tobs_values = [measurement.tobs for measurement in mostactive_measurements_last_12_months]\n",
    "\n",
    "plt.hist(tobs_values, bins=12, label='tobs')\n",
    "plt.xlabel('Temperature')\n",
    "plt.ylabel('Frequency')\n",
    "plt.legend()\n",
    "plt.title('Temperature Observations')\n",
    "plt.show()"
   ]
  },
  {
   "cell_type": "markdown",
   "metadata": {},
   "source": [
    "# Close Session"
   ]
  },
  {
   "cell_type": "code",
   "execution_count": 16,
   "metadata": {},
   "outputs": [],
   "source": [
    "# Close Session\n",
    "session.close()"
   ]
  },
  {
   "cell_type": "code",
   "execution_count": null,
   "metadata": {},
   "outputs": [],
   "source": []
  }
 ],
 "metadata": {
  "anaconda-cloud": {},
  "kernel_info": {
   "name": "python3"
  },
  "kernelspec": {
   "display_name": "Python 3 (ipykernel)",
   "language": "python",
   "name": "python3"
  },
  "language_info": {
   "codemirror_mode": {
    "name": "ipython",
    "version": 3
   },
   "file_extension": ".py",
   "mimetype": "text/x-python",
   "name": "python",
   "nbconvert_exporter": "python",
   "pygments_lexer": "ipython3",
   "version": "3.10.13"
  },
  "nteract": {
   "version": "0.12.3"
  },
  "varInspector": {
   "cols": {
    "lenName": 16,
    "lenType": 16,
    "lenVar": 40
   },
   "kernels_config": {
    "python": {
     "delete_cmd_postfix": "",
     "delete_cmd_prefix": "del ",
     "library": "var_list.py",
     "varRefreshCmd": "print(var_dic_list())"
    },
    "r": {
     "delete_cmd_postfix": ") ",
     "delete_cmd_prefix": "rm(",
     "library": "var_list.r",
     "varRefreshCmd": "cat(var_dic_list()) "
    }
   },
   "types_to_exclude": [
    "module",
    "function",
    "builtin_function_or_method",
    "instance",
    "_Feature"
   ],
   "window_display": false
  }
 },
 "nbformat": 4,
 "nbformat_minor": 2
}
